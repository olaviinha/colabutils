{
  "nbformat": 4,
  "nbformat_minor": 0,
  "metadata": {
    "colab": {
      "name": "inhagcutils.ipynb",
      "provenance": [],
      "collapsed_sections": [
        "q4LJxvti6lu_",
        "BEgHY27H7qwX",
        "b4-J7mX-6pyT",
        "BUPyNAJu636Q",
        "ugqHDwhA6x8O",
        "s5nR6_4tbieI"
      ],
      "toc_visible": true,
      "authorship_tag": "ABX9TyOvupGyMQwLH052NbShqJyb"
    },
    "kernelspec": {
      "name": "python3",
      "display_name": "Python 3"
    }
  },
  "cells": [
    {
      "cell_type": "markdown",
      "metadata": {
        "id": "LSd4y4co6PEG",
        "colab_type": "text"
      },
      "source": [
        "# inhagcutils\n",
        "\n",
        "A set of modules and functions I seem to need in too many Colab Notebooks."
      ]
    },
    {
      "cell_type": "markdown",
      "metadata": {
        "id": "q4LJxvti6lu_",
        "colab_type": "text"
      },
      "source": [
        "### Import modules"
      ]
    },
    {
      "cell_type": "code",
      "metadata": {
        "id": "yV2u_wGq6kdZ",
        "colab_type": "code",
        "colab": {}
      },
      "source": [
        "import sys, os, ntpath, string, random, librosa, librosa.display, IPython, shutil, math, psutil, datetime\n",
        "from glob import glob\n",
        "from os.path import isdir, join\n",
        "import numpy as np\n",
        "import matplotlib.pyplot as plt\n",
        "from mpl_toolkits.axes_grid1.inset_locator import inset_axes\n",
        "from distutils.dir_util import copy_tree"
      ],
      "execution_count": null,
      "outputs": []
    },
    {
      "cell_type": "markdown",
      "metadata": {
        "id": "BEgHY27H7qwX",
        "colab_type": "text"
      },
      "source": [
        "### Common variables"
      ]
    },
    {
      "cell_type": "code",
      "metadata": {
        "id": "QrEDZeQC7P2T",
        "colab_type": "code",
        "colab": {}
      },
      "source": [
        "# Root dirs\n",
        "drive_root = '/content/mydrive'\n",
        "drive_root = \"/content/drive/My Drive/\"\n",
        "dir_tmp = \"/content/tmp/\"\n",
        "\n",
        "# Quiet apps\n",
        "ffmpeg_q = \"-hide_banner -loglevel panic\" # -hide_banner -loglevel panic\n",
        "sox_q = \"-q\" # -S, -q\n",
        "youtube_q = \"-q\" # -q\n",
        "wget_q = \"-q\" # -q\n",
        "git_q = \"-q\" # -q\n",
        "curl_q = \"-s\" # -s\n",
        "pip_q = \"-q\" # -q\n",
        "\n",
        "# Plot colorspace\n",
        "plot_bg = '#272822'\n",
        "plot_wav = '#d5d5d5'\n",
        "\n",
        "# Audio formats for FFmpeg\n",
        "wav_16 = \"-c:a pcm_s16le -ar 16000 -ac 2 \" # Signed 16-bit 44.1kHz Stereo\n",
        "wav_44 = \"-c:a pcm_s16le -ar 44100 -ac 2 \" # Signed 16-bit 44.1kHz Stereo\n",
        "wav_48 = \"-c:a pcm_s24le -ar 48000 -ac 2\"  # Signed 24-bit 48kHz Stereo\n",
        "mp3_192 = \"-vn -ar 44100 -ac 2 -b:a 192k\"  # 44.1kHz 192kbps Stereo\n",
        "mp3_320 = \"-vn -ar 48000 -ac 2 -b:a 320k\" # 48kHz 320kbps Stereo"
      ],
      "execution_count": null,
      "outputs": []
    },
    {
      "cell_type": "markdown",
      "metadata": {
        "id": "b4-J7mX-6pyT",
        "colab_type": "text"
      },
      "source": [
        "### Functions: general"
      ]
    },
    {
      "cell_type": "code",
      "metadata": {
        "id": "Wrt1X-DN6Na_",
        "colab_type": "code",
        "colab": {}
      },
      "source": [
        "# Input: -\n",
        "# Output (boolean): ipynb is running on _hosted_ Colab runtime\n",
        "def is_hosted_runtime():\n",
        "  return 'google.colab' in sys.modules\n",
        "\n",
        "# Input (str, boolean): path, remove first slash\n",
        "# Output (string): path with missing / at the end, opt: remove from beginning\n",
        "def fix_path(path, add_slash=False):\n",
        "  if os.path.isdir(path) and not path.endswith('/'):\n",
        "    path = path+\"/\"\n",
        "  if path.startswith('/') and add_slash == True:\n",
        "    path = path[1:]\n",
        "  return path\n",
        "  \n",
        "# Input (str): path\n",
        "# Output (str): filename with extension\n",
        "def path_leaf(path):\n",
        "  head, tail = ntpath.split(path)\n",
        "  return tail or ntpath.basename(head)\n",
        "\n",
        "# Input (str): file path\n",
        "# Output (str): enclosing directory\n",
        "def path_dir(path):\n",
        "  return path.replace(path_leaf(path), '')\n",
        "\n",
        "# Input (str, boolean): file path, keep dot\n",
        "# Output (str): file extension with or without the .dot\n",
        "def path_ext(path, only_ext=False):\n",
        "  filename, extension = os.path.splitext(path)\n",
        "  if only_ext == True:\n",
        "    extension = extension[1:]\n",
        "  return extension\n",
        "\n",
        "# Input (str): path\n",
        "# Output (str): filename without extension\n",
        "def basename(path):\n",
        "  filename = os.path.basename(path).strip()#.replace(\" \", \"_\")\n",
        "  filebase = os.path.splitext(filename)[0]\n",
        "  return filebase\n",
        "\n",
        "# Input (str): path\n",
        "# Output (str): \"dir\", \"file\", \"youtube\", \"link\" or \"unknown\"\n",
        "def check_input_type(path):\n",
        "  if os.path.isdir(path):\n",
        "    input_type = \"dir\"\n",
        "    input = fix_path(path)\n",
        "  elif os.path.isfile(path):\n",
        "    input_type = \"file\"\n",
        "  elif \"://\" in path and \"youtu\" in path:\n",
        "    input_type = \"youtube\"\n",
        "  elif \"://\" in path:\n",
        "    input_type = \"link\"\n",
        "  else:\n",
        "    input_type = \"unknown\"\n",
        "  return input_type\n",
        "\n",
        "# Input (list): list\n",
        "# Output (any): modal value of list\n",
        "def most_frequent(list):\n",
        "  freq = max(set(list), key = list.count)\n",
        "  print(str(list.count(freq))+' out of '+str(len(list)), 'items have a value of', str(freq))\n",
        "  return freq\n",
        "\n",
        "# Input (str): stupid filename, e.g. \"any long% weird !filename (like this).wav\"\n",
        "# Output (str): cool filename, e.g. \"any_long_weird_filename_like_this.wav\"\n",
        "def slug(s):\n",
        "  valid_chars = \"-_. %s%s\" % (string.ascii_letters, string.digits)\n",
        "  file = ''.join(c for c in s if c in valid_chars)\n",
        "  file = file.replace(' ','_')\n",
        "  return file\n",
        "\n",
        "# Input (int): number\n",
        "# Output (str): random string of <number> characters long\n",
        "def rnd_str(length):\n",
        "  letters = string.ascii_lowercase\n",
        "  result_str = ''.join(random.choice(letters) for i in range(length))\n",
        "  return result_str\n",
        "\n",
        "# Input (list): list\n",
        "# Output (str): every -param item -param in -param list\n",
        "def concat_list(p, s):\n",
        "  p=' '+p+' '\n",
        "  return (p+p.join(s))\n",
        "\n",
        "# Input (float): probability of True\n",
        "# Output (boolean): True on given probability, otherwise False\n",
        "def odds(probability):\n",
        "  return random.random() < probability\n",
        "\n",
        "# Input: conda packages\n",
        "# Output: -\n",
        "def install_conda(packages):\n",
        "  !wget {wget_q} -c https://repo.continuum.io/archive/Anaconda3-5.1.0-Linux-x86_64.sh\n",
        "  !chmod +x Anaconda3-5.1.0-Linux-x86_64.sh\n",
        "  !bash ./Anaconda3-5.1.0-Linux-x86_64.sh -b -f -p /usr/local\n",
        "  import sys\n",
        "  sys.path.append('/usr/local/lib/python3.6/site-packages/')\n",
        "  !conda install -q -y {packages}"
      ],
      "execution_count": null,
      "outputs": []
    },
    {
      "cell_type": "markdown",
      "metadata": {
        "id": "BUPyNAJu636Q",
        "colab_type": "text"
      },
      "source": [
        "### Functions: temp file handlers"
      ]
    },
    {
      "cell_type": "code",
      "metadata": {
        "id": "3GALvT7v663b",
        "colab_type": "code",
        "colab": {}
      },
      "source": [
        "# Input (list): list of directory paths\n",
        "# Output: -\n",
        "def create_dirs(paths):\n",
        "  for path in paths:\n",
        "    if not os.path.isdir(path) and path != '':\n",
        "      !mkdir \"{path}\"\n",
        "      \n",
        "# Input (list): list of directory paths\n",
        "# Output: -\n",
        "def remove_dirs(paths):\n",
        "  for path in paths:\n",
        "    if os.path.isdir(path):\n",
        "      !rm -r \"{path}\"\n",
        "\n",
        "# Input (list): list of directory paths\n",
        "# Output: -\n",
        "def reset_dirs(paths):\n",
        "  remove_dirs(paths)\n",
        "  create_dirs(paths)\n",
        "\n",
        "# Input (list): list of directory path\n",
        "# Output: -\n",
        "def clean_dir(paths):\n",
        "  for path in paths:\n",
        "    path = fix_path(path)\n",
        "    !rm {path}*\n",
        "\n",
        "# Input (str): source directory path, destination directory path\n",
        "# Output: -\n",
        "def copy_all(source_dir, destination_dir):\n",
        "  for f in glob(source_dir+'*'):\n",
        "    shutil.copy(f, destination_dir)"
      ],
      "execution_count": null,
      "outputs": []
    },
    {
      "cell_type": "markdown",
      "metadata": {
        "id": "ugqHDwhA6x8O",
        "colab_type": "text"
      },
      "source": [
        "### Functions: audio-related"
      ]
    },
    {
      "cell_type": "code",
      "metadata": {
        "id": "oid2fmd96zj1",
        "colab_type": "code",
        "colab": {}
      },
      "source": [
        "# Input (str): directory path\n",
        "# Output (list): list of audiofiles in dir\n",
        "def list_audio(path):\n",
        "  audiofiles = []\n",
        "  for ext in ('*.wav', '*.aiff', '*.aif', '*.caf' '*.flac', '*.mp3', '*.ogg'):\n",
        "    audiofiles.extend(glob(join(path, ext)))\n",
        "  audiofiles.sort()\n",
        "  return audiofiles\n",
        "\n",
        "# Input (any): wav file path or audio signal as ndarray, duration, peak, samplerate\n",
        "# Output: waveform image of audio signal\n",
        "def waveform(input, dur=None, peaks=[], sr=44100):\n",
        "  if type(input) == np.ndarray:\n",
        "    data = input\n",
        "  else:\n",
        "    data, sr = librosa.load(input, sr=sr, duration=dur, offset=0.0)\n",
        "  plt.rcParams['axes.facecolor'] = plot_bg\n",
        "  fig = plt.figure(figsize=(16, 5), frameon=False)\n",
        "  #ax = fig.add_axes([0, 0, 1, 1])\n",
        "  #ax.axis('off')\n",
        "  plt.axis([-1, 1, -1, 1])\n",
        "  #plt.ylim(-1, 1)\n",
        "  if len(peaks) > 0:\n",
        "    for peak in peaks:\n",
        "      plt.axvline(x=peak, color='r')\n",
        "  librosa.display.waveplot(data, sr=sr, color=plot_wav)\n",
        "  plt.show()\n",
        "\n",
        "# Input (str): path to WAV file\n",
        "# Output: image of pitches\n",
        "def pitchform(wav_file):\n",
        "  y, sr = librosa.load(wav_file)\n",
        "  pitches, magnitudes = librosa.piptrack(y=y, sr=sr)\n",
        "  plt.figure(figsize=(16, 8))\n",
        "  plt.imshow(pitches[:100, :], aspect=\"auto\", interpolation=\"nearest\", origin=\"bottom\")\n",
        "  plt.show()\n",
        "\n",
        "# Input (str): path to WAV file\n",
        "# Output: image of waveform and pitches\n",
        "def waveform_pitch(wav_file):\n",
        "  waveform(wav_file)\n",
        "  pitchform(wav_file)\n",
        "\n",
        "# Input (str): path to MP3 file\n",
        "# Output: audio player\n",
        "def audio_player(input, sr=44100):\n",
        "  if type(input) == np.ndarray:\n",
        "    IPython.display.display(IPython.display.Audio(input, rate=sr))\n",
        "  else:\n",
        "    IPython.display.display(IPython.display.Audio(input))\n",
        "\n",
        "# Input (str): path to MP3 file, path to WAV file (of the same track)\n",
        "# Output: image of waveform, image of pitches and audio player\n",
        "def waveform_player(mp3, wav):\n",
        "  waveform_pitch(wav)\n",
        "  audio_player(mp3)\n",
        "\n",
        "# Output: creates current /content/cfg.json\n",
        "def configSpleeter():\n",
        "  !gsutil -q -m cp -R gs://neural-research/olaviinha/spleeter-configs/custom-4stems-22kHz-a.json /content/cfg.json"
      ],
      "execution_count": null,
      "outputs": []
    },
    {
      "cell_type": "markdown",
      "metadata": {
        "id": "s5nR6_4tbieI",
        "colab_type": "text"
      },
      "source": [
        "### Test"
      ]
    },
    {
      "cell_type": "code",
      "metadata": {
        "id": "0HUmF7NfbhN0",
        "colab_type": "code",
        "colab": {}
      },
      "source": [
        "# create_dirs(['/a', '/a/b', '/a/b/c'])\n",
        "# !cp /content/sample_data/anscombe.json /a/b/c.exs\n",
        "# existing_file = '/a/b/c.exs'\n",
        "# nonexisting_file = '/a/b/c.non'\n",
        "# existing_path1 = '/a/b/c'\n",
        "# existing_path2 = '/a/b/c/'\n",
        "# testlist = ['a', 'a', 'b', 'c', 'd', 'd', 'd']\n",
        "# crazyfile = \"!This is a% (Real)[Crazy] File-name~1.MKV\"\n",
        "\n",
        "# print('Notebook is running in hosted Colab env:',   is_hosted_runtime() )\n",
        "# print('Add end slash', existing_path1, '->',        fix_path(existing_path1))\n",
        "# print('Remove start slash', existing_path2, '->',   fix_path(existing_path2, True))\n",
        "# print('Last item from file path', existing_file, '->', path_leaf(existing_file))\n",
        "# print('Last item from dir path', existing_path1, '->', path_leaf(existing_path1))\n",
        "# print('Dir path from path', existing_file, '->', path_dir(existing_file))\n",
        "# print('Basename from path', existing_file, '->', basename(existing_file))\n",
        "# print('.Extension from path', existing_file, '->', path_ext(existing_file))\n",
        "# print('Extension from path', existing_file, '->', path_ext(existing_file, True))\n",
        "# print('Check input type for existing file path', existing_file, '->', check_input_type(existing_file))\n",
        "# print('Check input type for existing dir path', existing_path1, '->', check_input_type(existing_path1))\n",
        "# print('Check input type for nonexisting file', nonexisting_file, '->', check_input_type(nonexisting_file))\n",
        "# print('Check most frequent value in list', testlist, '->', most_frequent(testlist))\n",
        "# print('Prettify filename', crazyfile, '->', slug(crazyfile))\n",
        "# print('Random string of 8 characters ->', rnd_str(8))\n",
        "# print('Concatenate list with separator \"-v 0.3\" ->', concat_list(\"-v 0.3\", testlist))\n",
        "# print('Return True with 20% probability ->', odds(0.2))\n",
        "# print('Return True with 50% probability ->', odds(0.5))\n",
        "# print('Return True with 80% probability ->', odds(0.8))"
      ],
      "execution_count": null,
      "outputs": []
    }
  ]
}