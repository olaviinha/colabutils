{
  "nbformat": 4,
  "nbformat_minor": 0,
  "metadata": {
    "colab": {
      "name": "inhagcutils.ipynb",
      "provenance": [],
      "collapsed_sections": [
        "q4LJxvti6lu_",
        "BEgHY27H7qwX",
        "b4-J7mX-6pyT",
        "BUPyNAJu636Q",
        "ugqHDwhA6x8O"
      ],
      "authorship_tag": "ABX9TyN1z4ro3Uep/M+atXiQT90F"
    },
    "kernelspec": {
      "name": "python3",
      "display_name": "Python 3"
    }
  },
  "cells": [
    {
      "cell_type": "markdown",
      "metadata": {
        "id": "LSd4y4co6PEG",
        "colab_type": "text"
      },
      "source": [
        "# inhagcutils\n",
        "\n",
        "A set of modules and functions I seem to need in too many Colab Notebooks."
      ]
    },
    {
      "cell_type": "markdown",
      "metadata": {
        "id": "q4LJxvti6lu_",
        "colab_type": "text"
      },
      "source": [
        "### Import modules"
      ]
    },
    {
      "cell_type": "code",
      "metadata": {
        "id": "yV2u_wGq6kdZ",
        "colab_type": "code",
        "colab": {}
      },
      "source": [
        "import sys, os, ntpath, string, random, librosa, librosa.display, IPython\n",
        "from glob import glob\n",
        "from os.path import isdir, join\n",
        "#from IPython.display import Image, Audio, display\n",
        "import numpy as np\n",
        "import matplotlib.pyplot as plt"
      ],
      "execution_count": null,
      "outputs": []
    },
    {
      "cell_type": "markdown",
      "metadata": {
        "id": "BEgHY27H7qwX",
        "colab_type": "text"
      },
      "source": [
        "### Common variables"
      ]
    },
    {
      "cell_type": "code",
      "metadata": {
        "id": "QrEDZeQC7P2T",
        "colab_type": "code",
        "colab": {}
      },
      "source": [
        "# Dirs\n",
        "drive_root = \"/content/drive/My Drive/\"\n",
        "dir_tmp = \"/content/tmp/\"\n",
        "\n",
        "# Silence\n",
        "ffmpeg_q = \"-hide_banner -loglevel panic\" # -hide_banner -loglevel panic\n",
        "sox_q = \"-q\" # -S, -q\n",
        "youtube_q = \"-q\" # -q\n",
        "wget_q = \"-q\" # -q\n",
        "git_q = \"-q\" # -q\n",
        "\n",
        "# Audio formats\n",
        "wav_44 = \"-c:a pcm_s16le -ar 44100 -ac 2 \"\n",
        "wav_48 = \"-c:a pcm_s24le -ar 48000 -ac 2\"\n",
        "mp3_192 = \"-vn -ar 44100 -ac 2 -b:a 192k\"\n",
        "mp3_320 = \"-vn -ar 48000 -ac 2 -b:a 320k\""
      ],
      "execution_count": null,
      "outputs": []
    },
    {
      "cell_type": "markdown",
      "metadata": {
        "id": "b4-J7mX-6pyT",
        "colab_type": "text"
      },
      "source": [
        "### Functions: general"
      ]
    },
    {
      "cell_type": "code",
      "metadata": {
        "id": "Wrt1X-DN6Na_",
        "colab_type": "code",
        "colab": {}
      },
      "source": [
        "# Input: -\n",
        "# Output (boolean): ipynb is running on _hosted_ Colab runtime\n",
        "def isHostedRuntime():\n",
        "  return 'google.colab' in sys.modules\n",
        "\n",
        "# Input (str, boolean): path, remove first slash\n",
        "# Output (string): path with missing / at the end, opt: remove from beginning\n",
        "def fix_path(path, *args):\n",
        "  if os.path.isdir(path) and not path.endswith('/'):\n",
        "    path = path+\"/\"\n",
        "  if path.startswith('/') and args:\n",
        "    path = path[1:]\n",
        "  return path\n",
        "  \n",
        "# Input (str): path\n",
        "# Output (str): filename with extension\n",
        "def path_leaf(path):\n",
        "  head, tail = ntpath.split(path)\n",
        "  return tail or ntpath.basename(head)\n",
        "\n",
        "# Input (str): file path\n",
        "# Output (str): enclosing directory\n",
        "def path_dir(path):\n",
        "  return path.replace(path_leaf(path), '')\n",
        "\n",
        "def path_ext(path, *args):\n",
        "  filename, extension = os.path.splitext(path)\n",
        "  if args:\n",
        "    extension = extension[1:]\n",
        "  return extension\n",
        "\n",
        "# Input (str): path\n",
        "# Output (str): filename without extension\n",
        "def basename(path):\n",
        "  filename = os.path.basename(path).strip()#.replace(\" \", \"_\")\n",
        "  filebase = os.path.splitext(filename)[0]\n",
        "  return filebase\n",
        "\n",
        "# Input (str): path\n",
        "# Output (str): \"dir\", \"file\", \"youtube\", \"link\" or \"unknown\"\n",
        "def check_input_type(path):\n",
        "  if os.path.isdir(path):\n",
        "    input_type = \"dir\"\n",
        "    input = fix_path(path)\n",
        "  elif os.path.isfile(path):\n",
        "    input_type = \"file\"\n",
        "  elif \"http\" in path and \"youtu\" in path:\n",
        "    input_type = \"youtube\"\n",
        "  elif \"http\" in path:\n",
        "    input_type = \"link\"\n",
        "  else:\n",
        "    input_type = \"unknown\"\n",
        "  return input_type\n",
        "\n",
        "# Input (list): list of anything\n",
        "# Output (any): single item value with the most frequent occurrance\n",
        "def most_frequent(list):\n",
        "  freq = max(set(list), key = list.count)\n",
        "  print(str(list.count(freq))+' out of '+str(len(list)), 'items have a value of', str(freq))\n",
        "  return freq\n",
        "\n",
        "# Input (str): stupid filename, e.g. any long% weird !filename (like this).wav\n",
        "# Output (str): cool filename, e.g. any_long_weird_filename_like_this.wav\n",
        "def slug(s):\n",
        "  valid_chars = \"-_. %s%s\" % (string.ascii_letters, string.digits)\n",
        "  file = ''.join(c for c in s if c in valid_chars)\n",
        "  file = file.replace(' ','_')\n",
        "  return file\n",
        "\n",
        "# Input (int): number\n",
        "# Output (str): random string of <number> characters long\n",
        "def rnd_str(length):\n",
        "  letters = string.ascii_lowercase\n",
        "  result_str = ''.join(random.choice(letters) for i in range(length))\n",
        "  return result_str\n",
        "\n",
        "# Input (list): list\n",
        "# Output (str): every -param item -param in -param list\n",
        "def concat_list(p, s):\n",
        "  p=' '+p+' '\n",
        "  return (p+p.join(s))"
      ],
      "execution_count": null,
      "outputs": []
    },
    {
      "cell_type": "markdown",
      "metadata": {
        "id": "BUPyNAJu636Q",
        "colab_type": "text"
      },
      "source": [
        "### Functions: temporary holds"
      ]
    },
    {
      "cell_type": "code",
      "metadata": {
        "id": "3GALvT7v663b",
        "colab_type": "code",
        "colab": {}
      },
      "source": [
        "# Input (list): list of directory paths\n",
        "# Output: -\n",
        "def create_dirs(paths):\n",
        "  for path in paths:\n",
        "    if not os.path.isdir(path):\n",
        "      !mkdir \"{path}\"\n",
        "      \n",
        "# Input (list): list of directory paths\n",
        "# Output: -\n",
        "def remove_dirs(paths):\n",
        "  for path in paths:\n",
        "    if os.path.isdir(path):\n",
        "      !rm -r \"{path}\"\n",
        "\n",
        "# Input (list): list of directory paths\n",
        "# Output: -\n",
        "def reset_dirs(paths):\n",
        "  remove_dirs(paths)\n",
        "  create_dirs(paths)\n",
        "\n",
        "# Input (str): directory path\n",
        "# Output: -\n",
        "def cleanDir(path):\n",
        "  path = fix_path(path)\n",
        "  !rm {path}*"
      ],
      "execution_count": null,
      "outputs": []
    },
    {
      "cell_type": "markdown",
      "metadata": {
        "id": "ugqHDwhA6x8O",
        "colab_type": "text"
      },
      "source": [
        "### Functions: audio-related"
      ]
    },
    {
      "cell_type": "code",
      "metadata": {
        "id": "oid2fmd96zj1",
        "colab_type": "code",
        "colab": {}
      },
      "source": [
        "# Input (str): directory path\n",
        "# Output (list): list of audiofiles in dir\n",
        "def list_audio(path):\n",
        "  audiofiles = []\n",
        "  for ext in ('*.wav', '*.aiff', '*.aif', '*.caf' '*.flac', '*.mp3', '*.ogg'):\n",
        "    audiofiles.extend(glob(join(path, ext)))\n",
        "  return audiofiles\n",
        "\n",
        "# Input (str): path to WAV file\n",
        "# Output: image of waveform\n",
        "def waveform(wav_file):\n",
        "  y, sr = librosa.load(wav_file)\n",
        "  pitches, magnitudes = librosa.piptrack(y=y, sr=sr)\n",
        "  plt.rcParams['axes.facecolor'] = 'black'\n",
        "  plt.figure(figsize=(16, 8))\n",
        "  plt.plot(wave_data, color='#770044')\n",
        "  plt.show()\n",
        "\n",
        "# Input (str): path to WAV file\n",
        "# Output: image of pitches\n",
        "def pitchform(wav_file):\n",
        "  y, sr = librosa.load(wav_file)\n",
        "  pitches, magnitudes = librosa.piptrack(y=y, sr=sr)\n",
        "  plt.figure(figsize=(16, 8))\n",
        "  plt.imshow(pitches[:100, :], aspect=\"auto\", interpolation=\"nearest\", origin=\"bottom\")\n",
        "  plt.show()\n",
        "\n",
        "# Input (str): path to WAV file\n",
        "# Output: image of waveform and pitches\n",
        "def waveform_pitch(wav_file):\n",
        "  y, sr = librosa.load(wav_file)\n",
        "  pitches, magnitudes = librosa.piptrack(y=y, sr=sr)\n",
        "  plt.rcParams['axes.facecolor'] = 'black'\n",
        "  plt.figure(figsize=(16, 8))\n",
        "  plt.subplot(211)\n",
        "  plt.plot(wave_data, color='#770044')\n",
        "  plt.subplot(212)\n",
        "  plt.imshow(pitches[:100, :], aspect=\"auto\", interpolation=\"nearest\", origin=\"bottom\")\n",
        "  plt.show()\n",
        "\n",
        "# Input (str): path to MP3 file\n",
        "# Output: audio player\n",
        "def audio_player(mp3_path):\n",
        "  IPython.display.display(IPython.display.Audio(mp3_path))\n",
        "\n",
        "# Input (str): path to MP3 file, path to WAV file (of the same track)\n",
        "# Output: image of waveform, image of pitches and audio player\n",
        "def waveform_player(mp3, wav):\n",
        "  waveform_pitch(wav)\n",
        "  audio_player(mp3)\n",
        "\n",
        "# Output: creates current /content/cfg.json\n",
        "def configSpleeter():\n",
        "  !gsutil -q -m cp -R gs://neural-research/olaviinha/spleeter-configs/custom-4stems-22kHz-a.json /content/cfg.json"
      ],
      "execution_count": null,
      "outputs": []
    }
  ]
}