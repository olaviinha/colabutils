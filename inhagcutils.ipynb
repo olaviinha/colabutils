{
  "nbformat": 4,
  "nbformat_minor": 0,
  "metadata": {
    "colab": {
      "name": "inhagcutils.ipynb",
      "provenance": [],
      "collapsed_sections": [],
      "authorship_tag": "ABX9TyMMk5FODs9lvgzEFd1JsKT2",
      "include_colab_link": true
    },
    "kernelspec": {
      "name": "python3",
      "display_name": "Python 3"
    }
  },
  "cells": [
    {
      "cell_type": "markdown",
      "metadata": {
        "id": "view-in-github",
        "colab_type": "text"
      },
      "source": [
        "<a href=\"https://colab.research.google.com/github/olaviinha/inhagcutils/blob/master/inhagcutils.ipynb\" target=\"_parent\"><img src=\"https://colab.research.google.com/assets/colab-badge.svg\" alt=\"Open In Colab\"/></a>"
      ]
    },
    {
      "cell_type": "markdown",
      "metadata": {
        "id": "LSd4y4co6PEG",
        "colab_type": "text"
      },
      "source": [
        "# inhagcutils\n",
        "\n",
        "A set of modules and functions I seem to need in too many Colab Notebooks."
      ]
    },
    {
      "cell_type": "markdown",
      "metadata": {
        "id": "q4LJxvti6lu_",
        "colab_type": "text"
      },
      "source": [
        "### Import modules"
      ]
    },
    {
      "cell_type": "code",
      "metadata": {
        "id": "yV2u_wGq6kdZ",
        "colab_type": "code",
        "colab": {}
      },
      "source": [
        "import sys, os, ntpath, string, random, librosa, shutil\n",
        "from google.colab import drive\n",
        "from glob import glob\n",
        "from os.path import isdir, join\n",
        "from IPython.display import Image, Audio, display\n",
        "import numpy as np\n",
        "import matplotlib.pyplot as plt"
      ],
      "execution_count": null,
      "outputs": []
    },
    {
      "cell_type": "markdown",
      "metadata": {
        "id": "BEgHY27H7qwX",
        "colab_type": "text"
      },
      "source": [
        "### Common variables"
      ]
    },
    {
      "cell_type": "code",
      "metadata": {
        "id": "QrEDZeQC7P2T",
        "colab_type": "code",
        "colab": {}
      },
      "source": [
        "# Dirs\n",
        "drive_root = \"/content/drive/My Drive/\"\n",
        "dir_tmp = \"/content/tmp\"\n",
        "\n",
        "# Verbose\n",
        "ffmpeg_q = \"-hide_banner -loglevel panic\" # \"\", -hide_banner -loglevel panic\n",
        "sox_q = \"-q\" # -S, -q\n",
        "youtube_q = \"-q\" # \"\", -q\n",
        "\n",
        "# Audio formats\n",
        "wav_44 = \"-c:a pcm_s16le -ar 44100 -ac 2 \"\n",
        "wav_48 = \"-c:a pcm_s24le -ar 48000 -ac 2\"\n",
        "mp3_192 = \"-vn -ar 44100 -ac 2 -b:a 192k\"\n",
        "mp3_320 = \"-vn -ar 48000 -ac 2 -b:a 320k\""
      ],
      "execution_count": null,
      "outputs": []
    },
    {
      "cell_type": "markdown",
      "metadata": {
        "id": "b4-J7mX-6pyT",
        "colab_type": "text"
      },
      "source": [
        "### Functions: general"
      ]
    },
    {
      "cell_type": "code",
      "metadata": {
        "id": "Wrt1X-DN6Na_",
        "colab_type": "code",
        "colab": {}
      },
      "source": [
        "# Input: -\n",
        "# Output (boolean): ipynb is running on _hosted_ Colab runtime\n",
        "def isHostedRuntime():\n",
        "  return 'google.colab' in sys.modules\n",
        "\n",
        "# Input (str): path\n",
        "# Output (string): path with missing / at the end\n",
        "def fix_path(path):\n",
        "  if os.path.isdir(path) and not path.endswith('/'):\n",
        "    path = path+\"/\"\n",
        "  return path\n",
        "\n",
        "# Input (str): path\n",
        "# Output (str): filename with extension\n",
        "def path_leaf(path):\n",
        "  head, tail = ntpath.split(path)\n",
        "  return tail or ntpath.basename(head)\n",
        "\n",
        "# Input (str): path\n",
        "# Output (str): filename without extension\n",
        "def basename(path):\n",
        "  filename = os.path.basename(path).strip()#.replace(\" \", \"_\")\n",
        "  filebase = os.path.splitext(filename)[0]\n",
        "  return filebase\n",
        "\n",
        "# Input (str): path\n",
        "# Output (str): \"dir\", \"file\", \"youtube\", \"link\" or \"unknown\"\n",
        "def check_input_type(path):\n",
        "  if os.path.isdir(path):\n",
        "    input_type = \"dir\"\n",
        "    input = fix_path(path)\n",
        "  elif os.path.isfile(path):\n",
        "    input_type = \"file\"\n",
        "  elif \"http\" in path and \"youtu\" in path:\n",
        "    input_type = \"youtube\"\n",
        "  elif \"http\" in path:\n",
        "    input_type = \"link\"\n",
        "  else:\n",
        "    input_type = \"unknown\"\n",
        "  return input_type\n",
        "\n",
        "# Input (list): list of anything\n",
        "# Output (any): single item value with the most frequent occurrance\n",
        "def most_frequent(list):\n",
        "  freq = max(set(list), key = list.count)\n",
        "  print(str(list.count(freq))+' out of '+str(len(list)), 'items have a value of', str(freq))\n",
        "  return freq\n",
        "\n",
        "# Input (str): stupid filename, e.g. any long% weird !filename (like this).wav\n",
        "# Output (str): cool filename, e.g. any_long_weird_filename_like_this.wav\n",
        "def slug(s):\n",
        "  valid_chars = \"-_. %s%s\" % (string.ascii_letters, string.digits)\n",
        "  file = ''.join(c for c in s if c in valid_chars)\n",
        "  file = file.replace(' ','_')\n",
        "  return file\n",
        "\n",
        "# Input (int): number\n",
        "# Output (str): random string of <number> characters long\n",
        "def rnd_str(length):\n",
        "  letters = string.ascii_lowercase\n",
        "  result_str = ''.join(random.choice(letters) for i in range(length))\n",
        "  return result_str"
      ],
      "execution_count": null,
      "outputs": []
    },
    {
      "cell_type": "markdown",
      "metadata": {
        "id": "BUPyNAJu636Q",
        "colab_type": "text"
      },
      "source": [
        "### Functions: temporary holds"
      ]
    },
    {
      "cell_type": "code",
      "metadata": {
        "id": "3GALvT7v663b",
        "colab_type": "code",
        "colab": {}
      },
      "source": [
        "# Input (list): list of directory paths\n",
        "# Output: -\n",
        "def create_dirs(paths):\n",
        "  for path in paths:\n",
        "    if not os.path.isdir(path):\n",
        "      !mkdir \"{path}\"\n",
        "      \n",
        "# Input (list): list of directory paths\n",
        "# Output: -\n",
        "def remove_dirs(paths):\n",
        "  for path in paths:\n",
        "    if os.path.isdir(path):\n",
        "      !rmdir -r \"{path}\"\n",
        "\n",
        "# Input (list): list of directory paths\n",
        "# Output: -\n",
        "def reset_dirs(paths):\n",
        "  remove_dirs(paths)\n",
        "  create_dirs(paths)"
      ],
      "execution_count": null,
      "outputs": []
    },
    {
      "cell_type": "markdown",
      "metadata": {
        "id": "ugqHDwhA6x8O",
        "colab_type": "text"
      },
      "source": [
        "### Functions: audio-related"
      ]
    },
    {
      "cell_type": "code",
      "metadata": {
        "id": "oid2fmd96zj1",
        "colab_type": "code",
        "colab": {}
      },
      "source": [
        "# Input (str): path\n",
        "# Output (list): list of audiofiles in dir\n",
        "def list_audio(path):\n",
        "  audiofiles = []\n",
        "  for ext in ('*.wav', '*.aiff', '*.aif', '*.caf' '*.flac', '*.mp3', '*.ogg'):\n",
        "    audiofiles.extend(glob(join(path, ext)))\n",
        "  return audiofiles\n",
        "\n",
        "# Input (str): path to WAV file\n",
        "# Output: audio waveform image\n",
        "def waveform(audiofile):\n",
        "  y, sr = librosa.load(audiofile, sr=None)\n",
        "  plt.figure(figsize=(10, 4))\n",
        "  plt.rcParams['figure.facecolor'] = 'black'\n",
        "  librosa.display.waveplot(y, sr=sr, color='#dfd')\n",
        "  plt.show()\n",
        "\n",
        "# Input (str): path to MP3 file\n",
        "# Output: audio player\n",
        "def audio_player(audiofile):\n",
        "  display(Audio(audiofile))\n",
        "\n",
        "# Input (str): path to MP3 file, path to WAV file (of the same track)\n",
        "# Output: audio waveform image and audio player\n",
        "def waveform_player(mp3, wav):\n",
        "  waveform(wav)\n",
        "  audio_player(mp3)"
      ],
      "execution_count": null,
      "outputs": []
    }
  ]
}